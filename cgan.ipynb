{
 "metadata": {
  "language_info": {
   "codemirror_mode": {
    "name": "ipython",
    "version": 3
   },
   "file_extension": ".py",
   "mimetype": "text/x-python",
   "name": "python",
   "nbconvert_exporter": "python",
   "pygments_lexer": "ipython3",
   "version": "3.8.6-final"
  },
  "orig_nbformat": 2,
  "kernelspec": {
   "name": "python3",
   "display_name": "Python 3.8.6 64-bit",
   "metadata": {
    "interpreter": {
     "hash": "e2f4f1569738af63f9e89bf4b1025866de4e2f0a52b940d0b1843f4095a0291c"
    }
   }
  }
 },
 "nbformat": 4,
 "nbformat_minor": 2,
 "cells": [
  {
   "source": [
    "# Load the data"
   ],
   "cell_type": "markdown",
   "metadata": {}
  },
  {
   "cell_type": "code",
   "execution_count": 1,
   "metadata": {},
   "outputs": [],
   "source": [
    "import torch\n",
    "import torch.nn as nn\n",
    "import torch.optim as optim\n",
    "import torchvision\n",
    "import torchvision.datasets as datasets\n",
    "import torchvision.transforms as transforms\n",
    "from torch import tensor\n",
    "from torch.utils.data import DataLoader\n",
    "from torch.utils.tensorboard import SummaryWriter\n",
    "\n",
    "import numpy as np\n",
    "import pandas as pd\n",
    "\n",
    "from pathlib import Path\n",
    "import cv2"
   ]
  },
  {
   "cell_type": "code",
   "execution_count": 2,
   "metadata": {},
   "outputs": [],
   "source": [
    "path = Path('gan-getting-started')\n",
    "Path.BASE_PATH = path\n",
    "Path.ls = lambda x: [o.name for o in x.iterdir()]"
   ]
  },
  {
   "cell_type": "code",
   "execution_count": 3,
   "metadata": {},
   "outputs": [],
   "source": [
    "class PictureDataset(torch.utils.data.Dataset):\n",
    "    def __init__(self, df, folder_path, transforms = []):\n",
    "        super().__init__()\n",
    "        self.df, self.folder_path, self.transforms = df, folder_path, transforms\n",
    "\n",
    "    \n",
    "    def __len__(self):\n",
    "        return len(self.df)\n",
    "    \n",
    "    def __getitem__(self, idx):\n",
    "        img = cv2.imread(str(self.folder_path/self.df[0][idx]))\n",
    "        img = cv2.cvtColor(img, cv2.COLOR_BGR2RGB)\n",
    "\n",
    "        for t in self.transforms:\n",
    "            img = t(img)\n",
    "        \n",
    "        return ((tensor(img) - 127.5)/127.5).permute(2, 0, 1) # rgb, y, x"
   ]
  },
  {
   "cell_type": "code",
   "execution_count": 4,
   "metadata": {},
   "outputs": [],
   "source": [
    "df_photo = pd.DataFrame((path/'photo_jpg').ls())\n",
    "df_monet = pd.DataFrame((path/'monet_jpg').ls())\n",
    "\n",
    "monetDS = PictureDataset(df_monet, path/'monet_jpg', [])\n",
    "photoDS = PictureDataset(df_photo, path/'photo_jpg', [])\n",
    "\n",
    "BATCH_SIZE = 128\n",
    "\n",
    "photo_loader = DataLoader(photoDS, BATCH_SIZE, shuffle=True, num_workers=0, drop_last=True)\n",
    "monet_loader = DataLoader(monetDS, BATCH_SIZE, shuffle=True, num_workers=0, drop_last=True)"
   ]
  },
  {
   "cell_type": "code",
   "execution_count": 5,
   "metadata": {},
   "outputs": [],
   "source": [
    "class Discriminator(nn.Module):\n",
    "    def __init__(self, channels_img, features_d):\n",
    "        super(Discriminator, self).__init__()\n",
    "        self.disc = nn.Sequential(\n",
    "            # Input: N x channels_img x 64 x64\n",
    "            nn.Conv2d(channels_img, features_d, kernel_size=4, stride=2, padding=1),  # 32x32\n",
    "            nn.LeakyReLU(0.2),\n",
    "            self._block(features_d, features_d * 2, 4, 2, 1, ),  # 16x16\n",
    "            self._block(features_d * 2, features_d * 4, 4, 2, 1, ),  # 8x8\n",
    "            self._block(features_d * 4, features_d * 8, 4, 2, 1, ),  # 4x4\n",
    "            nn.Conv2d(features_d * 8, 1, kernel_size=4, stride=2, padding=0),  # 1x1\n",
    "            nn.Sigmoid()\n",
    "        )\n",
    "\n",
    "    def _block(self, in_channels, out_channels, kernel_size, stride, padding):\n",
    "        return nn.Sequential(\n",
    "            nn.Conv2d(in_channels, out_channels, kernel_size, stride, padding, bias=False),\n",
    "            nn.BatchNorm2d(out_channels),\n",
    "            nn.LeakyReLU(0.2),\n",
    "        )\n",
    "\n",
    "    def forward(self, x):\n",
    "        return self.disc(x)"
   ]
  },
  {
   "cell_type": "code",
   "execution_count": 6,
   "metadata": {},
   "outputs": [],
   "source": [
    "class Generator(nn.Module):\n",
    "    def __init__(self, z_dim, channels_img, features_g):\n",
    "        super(Generator, self).__init__()\n",
    "        self.gen = nn.Sequential(\n",
    "            # Input: N x z_dim x 1 x 1\n",
    "            self._block(z_dim, features_g * 16, 4, 1, 0),  # N x f_g*16 x 4 x 4\n",
    "            self._block(features_g * 16, features_g * 8, 4, 2, 1),  # 8x8\n",
    "            self._block(features_g * 8, features_g * 4, 4, 2, 1),  # 16x16\n",
    "            self._block(features_g * 4, features_g * 2, 4, 2, 1),  # 32x32\n",
    "            nn.ConvTranspose2d(features_g * 2, channels_img, kernel_size=4, stride=2, padding=1),\n",
    "            nn.Tanh()\n",
    "        )\n",
    "\n",
    "    def _block(self, in_channels, out_channels, kernel_size, stride, padding):\n",
    "        return nn.Sequential(\n",
    "            nn.ConvTranspose2d(\n",
    "                in_channels,\n",
    "                out_channels,\n",
    "                kernel_size,\n",
    "                stride,\n",
    "                padding,\n",
    "                bias=False\n",
    "            ),\n",
    "            nn.BatchNorm2d(out_channels),\n",
    "            nn.ReLU(),\n",
    "        )\n",
    "\n",
    "    def forward(self, x):\n",
    "        return self.gen(x)"
   ]
  },
  {
   "cell_type": "code",
   "execution_count": 7,
   "metadata": {},
   "outputs": [],
   "source": [
    "def initialize_weights(model):\n",
    "    for m in model.modules():\n",
    "        if isinstance(m, (nn.Conv2d, nn.ConvTranspose2d, nn.BatchNorm2d)):\n",
    "            nn.init.normal_(m.weight.data, 0.0, 0.02)"
   ]
  },
  {
   "cell_type": "code",
   "execution_count": 8,
   "metadata": {},
   "outputs": [],
   "source": [
    "def test():\n",
    "    N, in_channels, H, W = 8, 3, 64, 64\n",
    "    z_dim = 100\n",
    "    x = torch.randn((N, in_channels, H, W))\n",
    "    disc = Discriminator(in_channels, 8)\n",
    "    initialize_weights(disc)\n",
    "    assert disc(x).shape == (N, 1, 1, 1)\n",
    "    gen = Generator(z_dim, in_channels, 8)\n",
    "    initialize_weights(gen)\n",
    "    z = torch.randn((N, z_dim, 1, 1))\n",
    "    assert gen(z).shape == (N, in_channels, H, W)\n",
    "    print(\"Test success\")"
   ]
  },
  {
   "cell_type": "code",
   "execution_count": 9,
   "metadata": {},
   "outputs": [],
   "source": [
    "def train():\n",
    "    # Hyperparameters etcc\n",
    "    device = torch.device(\"cuda\" if torch.cuda.is_available() else \"cpu\")\n",
    "    LEARNING_RATE = 2e-4\n",
    "    IMG_SIZE = 256\n",
    "    IMG_CHANNELS = 3\n",
    "    Z_DIM = 100\n",
    "    NUM_EPOCHS = 5\n",
    "    FEATURES_DISC = 64\n",
    "    FEATURES_GEN = 64\n",
    "\n",
    "    transform = transforms.Compose([\n",
    "        transforms.Resize(IMG_SIZE),\n",
    "        transforms.ToTensor(),\n",
    "        transforms.Normalize([0.5 for _ in range(IMG_CHANNELS)], [0.5 for _ in range(IMG_CHANNELS)])\n",
    "    ])\n",
    "\n",
    "    gen = Generator(Z_DIM, IMG_CHANNELS, FEATURES_GEN).to(device)\n",
    "    disc = Discriminator(IMG_CHANNELS, FEATURES_DISC).to(device)\n",
    "\n",
    "    initialize_weights(gen)\n",
    "    initialize_weights(disc)\n",
    "\n",
    "    opt_gen = optim.Adam(gen.parameters(), lr=LEARNING_RATE, betas=(0.5, 0.999))\n",
    "    opt_disc = optim.Adam(disc.parameters(), lr=LEARNING_RATE, betas=(0.5, 0.999))\n",
    "    criterion = nn.BCELoss()\n",
    "\n",
    "    fixed_noise = torch.randn(32, Z_DIM, 1, 1).to(device)\n",
    "    writer_real = SummaryWriter(f\"runs/cgan/real\")\n",
    "    writer_fake = SummaryWriter(f\"runs/cgan/fake\")\n",
    "    step = 0\n",
    "\n",
    "    # train is default, just to be sure\n",
    "    gen.train()\n",
    "    disc.train()\n",
    "\n",
    "    for epoch in range(NUM_EPOCHS):\n",
    "        for batch_idx, (real, _) in enumerate(monet_loader):\n",
    "            real = real.to(device)\n",
    "            noise = torch.randn((BATCH_SIZE, Z_DIM, 1, 1)).to(device)\n",
    "            fake = gen(noise)\n",
    "\n",
    "            # Train discriminator, to maximize log(D(x)) + log(1 - D(G(z)))\n",
    "            disc_real = disc(real).reshape(-1)\n",
    "            loss_disc_real = criterion(disc_real, torch.ones_like(disc_real))\n",
    "            disc_fake = disc(fake).reshape(-1)\n",
    "            loss_disc_fake = criterion(disc_fake, torch.zeros_like(disc_fake))\n",
    "            loss_disc = (loss_disc_real + loss_disc_fake) / 2\n",
    "\n",
    "            disc.zero_grad()\n",
    "            loss_disc.backward(retain_graph=True)\n",
    "            opt_disc.step()\n",
    "\n",
    "            # Train generator to minimize log(1- D(G(z))) <-> maximize log(D(G(z)))\n",
    "            output = disc(fake).reshape(-1)\n",
    "            loss_gen = criterion(output, torch.ones_like(output))\n",
    "            gen.zero_grad()\n",
    "            loss_gen.backward()\n",
    "            opt_gen.step()\n",
    "\n",
    "            # Print losses occasionally and print to tensorboard\n",
    "            if batch_idx % 100 == 0:\n",
    "                print(\n",
    "                    f\"Epoch [{epoch}/{NUM_EPOCHS}] Batch {batch_idx}/{len(monet_loader)} \\\n",
    "                      Loss D: {loss_disc:.4f}, loss G: {loss_gen:.4f}\"\n",
    "                )\n",
    "\n",
    "                with torch.no_grad():\n",
    "                    fake = gen(fixed_noise)\n",
    "                    # take out (up to) 32 examples\n",
    "                    img_grid_real = torchvision.utils.make_grid(\n",
    "                        real[:32], normalize=True\n",
    "                    )\n",
    "                    img_grid_fake = torchvision.utils.make_grid(\n",
    "                        fake[:32], normalize=True\n",
    "                    )\n",
    "\n",
    "                    writer_real.add_image(\"Real\", img_grid_real, global_step=step)\n",
    "                    writer_fake.add_image(\"Fake\", img_grid_fake, global_step=step)\n",
    "\n",
    "                step += 1"
   ]
  },
  {
   "cell_type": "code",
   "execution_count": 10,
   "metadata": {},
   "outputs": [
    {
     "output_type": "error",
     "ename": "ValueError",
     "evalue": "too many values to unpack (expected 2)",
     "traceback": [
      "\u001b[1;31m---------------------------------------------------------------------------\u001b[0m",
      "\u001b[1;31mValueError\u001b[0m                                Traceback (most recent call last)",
      "\u001b[1;32m<ipython-input-10-2da0ffaf5447>\u001b[0m in \u001b[0;36m<module>\u001b[1;34m\u001b[0m\n\u001b[1;32m----> 1\u001b[1;33m \u001b[0mtrain\u001b[0m\u001b[1;33m(\u001b[0m\u001b[1;33m)\u001b[0m\u001b[1;33m\u001b[0m\u001b[1;33m\u001b[0m\u001b[0m\n\u001b[0m",
      "\u001b[1;32m<ipython-input-9-ca32801f66ab>\u001b[0m in \u001b[0;36mtrain\u001b[1;34m()\u001b[0m\n\u001b[0;32m     36\u001b[0m \u001b[1;33m\u001b[0m\u001b[0m\n\u001b[0;32m     37\u001b[0m     \u001b[1;32mfor\u001b[0m \u001b[0mepoch\u001b[0m \u001b[1;32min\u001b[0m \u001b[0mrange\u001b[0m\u001b[1;33m(\u001b[0m\u001b[0mNUM_EPOCHS\u001b[0m\u001b[1;33m)\u001b[0m\u001b[1;33m:\u001b[0m\u001b[1;33m\u001b[0m\u001b[1;33m\u001b[0m\u001b[0m\n\u001b[1;32m---> 38\u001b[1;33m         \u001b[1;32mfor\u001b[0m \u001b[0mbatch_idx\u001b[0m\u001b[1;33m,\u001b[0m \u001b[1;33m(\u001b[0m\u001b[0mreal\u001b[0m\u001b[1;33m,\u001b[0m \u001b[0m_\u001b[0m\u001b[1;33m)\u001b[0m \u001b[1;32min\u001b[0m \u001b[0menumerate\u001b[0m\u001b[1;33m(\u001b[0m\u001b[0mmonet_loader\u001b[0m\u001b[1;33m)\u001b[0m\u001b[1;33m:\u001b[0m\u001b[1;33m\u001b[0m\u001b[1;33m\u001b[0m\u001b[0m\n\u001b[0m\u001b[0;32m     39\u001b[0m             \u001b[0mreal\u001b[0m \u001b[1;33m=\u001b[0m \u001b[0mreal\u001b[0m\u001b[1;33m.\u001b[0m\u001b[0mto\u001b[0m\u001b[1;33m(\u001b[0m\u001b[0mdevice\u001b[0m\u001b[1;33m)\u001b[0m\u001b[1;33m\u001b[0m\u001b[1;33m\u001b[0m\u001b[0m\n\u001b[0;32m     40\u001b[0m             \u001b[0mnoise\u001b[0m \u001b[1;33m=\u001b[0m \u001b[0mtorch\u001b[0m\u001b[1;33m.\u001b[0m\u001b[0mrandn\u001b[0m\u001b[1;33m(\u001b[0m\u001b[1;33m(\u001b[0m\u001b[0mBATCH_SIZE\u001b[0m\u001b[1;33m,\u001b[0m \u001b[0mZ_DIM\u001b[0m\u001b[1;33m,\u001b[0m \u001b[1;36m1\u001b[0m\u001b[1;33m,\u001b[0m \u001b[1;36m1\u001b[0m\u001b[1;33m)\u001b[0m\u001b[1;33m)\u001b[0m\u001b[1;33m.\u001b[0m\u001b[0mto\u001b[0m\u001b[1;33m(\u001b[0m\u001b[0mdevice\u001b[0m\u001b[1;33m)\u001b[0m\u001b[1;33m\u001b[0m\u001b[1;33m\u001b[0m\u001b[0m\n",
      "\u001b[1;31mValueError\u001b[0m: too many values to unpack (expected 2)"
     ]
    }
   ],
   "source": [
    "train()"
   ]
  }
 ]
}